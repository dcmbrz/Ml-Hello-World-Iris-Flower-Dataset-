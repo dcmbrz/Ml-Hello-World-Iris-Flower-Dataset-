{
 "cells": [
  {
   "cell_type": "code",
   "execution_count": 2,
   "id": "d4a6b8f8",
   "metadata": {},
   "outputs": [],
   "source": [
    "# Load Libraries\n",
    "from pandas import read_csv\n",
    "from pandas.plotting import scatter_matrix\n",
    "from matplotlib import pyplot as plt\n",
    "from sklearn.model_selection import train_test_split\n",
    "from sklearn.model_selection import cross_val_score\n",
    "from sklearn.model_selection import StratifiedKFold\n",
    "from sklearn.metrics import classification_report\n",
    "from sklearn.metrics import confusion_matrix\n",
    "from sklearn.metrics import accuracy_score\n",
    "from sklearn.linear_model import LogisticRegression\n",
    "from sklearn.tree import DecisionTreeClassifier\n",
    "from sklearn.neighbors import KNeighborsClassifier\n",
    "from sklearn.discriminant_analysis import LinearDiscriminantAnalysis\n",
    "from sklearn.naive_bayes import GaussianNB\n",
    "from sklearn.svm import SVC"
   ]
  },
  {
   "cell_type": "code",
   "execution_count": 3,
   "id": "b5200a8b",
   "metadata": {},
   "outputs": [],
   "source": [
    "# Loading dataset\n",
    "url = \"https://raw.githubusercontent.com/jbrownlee/Datasets/master/iris.csv\"\n",
    "names = ['sepal-length', 'sepal-width', 'petal-legth', 'petal-width', 'class']\n",
    "dataset = read_csv(url, names=names)"
   ]
  },
  {
   "cell_type": "code",
   "execution_count": 4,
   "id": "2d9940ac",
   "metadata": {},
   "outputs": [
    {
     "name": "stdout",
     "output_type": "stream",
     "text": [
      "(150, 5)\n"
     ]
    }
   ],
   "source": [
    "print(dataset.shape)"
   ]
  },
  {
   "cell_type": "code",
   "execution_count": 13,
   "id": "365d1b5d",
   "metadata": {},
   "outputs": [
    {
     "name": "stdout",
     "output_type": "stream",
     "text": [
      "     sepal-length  sepal-width  petal-legth  petal-width           class\n",
      "0             5.1          3.5          1.4          0.2     Iris-setosa\n",
      "1             4.9          3.0          1.4          0.2     Iris-setosa\n",
      "2             4.7          3.2          1.3          0.2     Iris-setosa\n",
      "3             4.6          3.1          1.5          0.2     Iris-setosa\n",
      "4             5.0          3.6          1.4          0.2     Iris-setosa\n",
      "..            ...          ...          ...          ...             ...\n",
      "145           6.7          3.0          5.2          2.3  Iris-virginica\n",
      "146           6.3          2.5          5.0          1.9  Iris-virginica\n",
      "147           6.5          3.0          5.2          2.0  Iris-virginica\n",
      "148           6.2          3.4          5.4          2.3  Iris-virginica\n",
      "149           5.9          3.0          5.1          1.8  Iris-virginica\n",
      "\n",
      "[150 rows x 5 columns]\n"
     ]
    }
   ],
   "source": [
    "# head\n",
    "print(dataset.head(150))"
   ]
  },
  {
   "cell_type": "code",
   "execution_count": 9,
   "id": "4cf2c36e",
   "metadata": {},
   "outputs": [
    {
     "name": "stdout",
     "output_type": "stream",
     "text": [
      "       sepal-length  sepal-width  petal-legth  petal-width\n",
      "count    150.000000   150.000000   150.000000   150.000000\n",
      "mean       5.843333     3.054000     3.758667     1.198667\n",
      "std        0.828066     0.433594     1.764420     0.763161\n",
      "min        4.300000     2.000000     1.000000     0.100000\n",
      "25%        5.100000     2.800000     1.600000     0.300000\n",
      "50%        5.800000     3.000000     4.350000     1.300000\n",
      "75%        6.400000     3.300000     5.100000     1.800000\n",
      "max        7.900000     4.400000     6.900000     2.500000\n"
     ]
    }
   ],
   "source": [
    "# statistical summary of the data\n",
    "print(dataset.describe())"
   ]
  },
  {
   "cell_type": "code",
   "execution_count": 15,
   "id": "7c6ab95f",
   "metadata": {},
   "outputs": [
    {
     "name": "stdout",
     "output_type": "stream",
     "text": [
      "class\n",
      "Iris-setosa        50\n",
      "Iris-versicolor    50\n",
      "Iris-virginica     50\n",
      "dtype: int64\n"
     ]
    }
   ],
   "source": [
    "print(dataset.groupby('class').size())"
   ]
  },
  {
   "cell_type": "code",
   "execution_count": null,
   "id": "c81e3c47",
   "metadata": {},
   "outputs": [],
   "source": []
  }
 ],
 "metadata": {
  "kernelspec": {
   "display_name": "Ml Hello World(Iris Flower Dataset) (3.10.0)",
   "language": "python",
   "name": "python3"
  },
  "language_info": {
   "codemirror_mode": {
    "name": "ipython",
    "version": 3
   },
   "file_extension": ".py",
   "mimetype": "text/x-python",
   "name": "python",
   "nbconvert_exporter": "python",
   "pygments_lexer": "ipython3",
   "version": "3.10.0"
  }
 },
 "nbformat": 4,
 "nbformat_minor": 5
}
