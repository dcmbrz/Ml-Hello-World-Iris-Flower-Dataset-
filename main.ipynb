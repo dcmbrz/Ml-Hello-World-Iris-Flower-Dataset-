{
 "cells": [
  {
   "cell_type": "code",
   "execution_count": 2,
   "id": "d4a6b8f8",
   "metadata": {},
   "outputs": [],
   "source": [
    "# Load Libraries\n",
    "from pandas import read_csv\n",
    "from pandas.plotting import scatter_matrix\n",
    "from matplotlib import pyplot as plt\n",
    "from sklearn.model_selection import train_test_split\n",
    "from sklearn.model_selection import cross_val_score\n",
    "from sklearn.model_selection import StratifiedKFold\n",
    "from sklearn.metrics import classification_report\n",
    "from sklearn.metrics import confusion_matrix\n",
    "from sklearn.metrics import accuracy_score\n",
    "from sklearn.linear_model import LogisticRegression\n",
    "from sklearn.tree import DecisionTreeClassifier\n",
    "from sklearn.neighbors import KNeighborsClassifier\n",
    "from sklearn.discriminant_analysis import LinearDiscriminantAnalysis\n",
    "from sklearn.naive_bayes import GaussianNB\n",
    "from sklearn.svm import SVC"
   ]
  },
  {
   "cell_type": "code",
   "execution_count": 3,
   "id": "b5200a8b",
   "metadata": {},
   "outputs": [],
   "source": [
    "# Loading dataset\n",
    "url = \"https://raw.githubusercontent.com/jbrownlee/Datasets/master/iris.csv\"\n",
    "names = ['sepal-length', 'sepal-width', 'petal-legth', 'petal-width', 'class']\n",
    "dataset = read_csv(url, names=names)"
   ]
  },
  {
   "cell_type": "code",
   "execution_count": 4,
   "id": "2d9940ac",
   "metadata": {},
   "outputs": [
    {
     "name": "stdout",
     "output_type": "stream",
     "text": [
      "(150, 5)\n"
     ]
    }
   ],
   "source": [
    "print(dataset.shape)"
   ]
  },
  {
   "cell_type": "code",
   "execution_count": 8,
   "id": "365d1b5d",
   "metadata": {},
   "outputs": [
    {
     "name": "stdout",
     "output_type": "stream",
     "text": [
      "    sepal-length  sepal-width  petal-legth  petal-width        class\n",
      "0            5.1          3.5          1.4          0.2  Iris-setosa\n",
      "1            4.9          3.0          1.4          0.2  Iris-setosa\n",
      "2            4.7          3.2          1.3          0.2  Iris-setosa\n",
      "3            4.6          3.1          1.5          0.2  Iris-setosa\n",
      "4            5.0          3.6          1.4          0.2  Iris-setosa\n",
      "5            5.4          3.9          1.7          0.4  Iris-setosa\n",
      "6            4.6          3.4          1.4          0.3  Iris-setosa\n",
      "7            5.0          3.4          1.5          0.2  Iris-setosa\n",
      "8            4.4          2.9          1.4          0.2  Iris-setosa\n",
      "9            4.9          3.1          1.5          0.1  Iris-setosa\n",
      "10           5.4          3.7          1.5          0.2  Iris-setosa\n",
      "11           4.8          3.4          1.6          0.2  Iris-setosa\n",
      "12           4.8          3.0          1.4          0.1  Iris-setosa\n",
      "13           4.3          3.0          1.1          0.1  Iris-setosa\n",
      "14           5.8          4.0          1.2          0.2  Iris-setosa\n",
      "15           5.7          4.4          1.5          0.4  Iris-setosa\n",
      "16           5.4          3.9          1.3          0.4  Iris-setosa\n",
      "17           5.1          3.5          1.4          0.3  Iris-setosa\n",
      "18           5.7          3.8          1.7          0.3  Iris-setosa\n",
      "19           5.1          3.8          1.5          0.3  Iris-setosa\n"
     ]
    }
   ],
   "source": [
    "# head\n",
    "print(dataset.head(20))"
   ]
  },
  {
   "cell_type": "code",
   "execution_count": null,
   "id": "4cf2c36e",
   "metadata": {},
   "outputs": [],
   "source": []
  }
 ],
 "metadata": {
  "kernelspec": {
   "display_name": "Ml Hello World(Iris Flower Dataset) (3.10.0)",
   "language": "python",
   "name": "python3"
  },
  "language_info": {
   "codemirror_mode": {
    "name": "ipython",
    "version": 3
   },
   "file_extension": ".py",
   "mimetype": "text/x-python",
   "name": "python",
   "nbconvert_exporter": "python",
   "pygments_lexer": "ipython3",
   "version": "3.10.0"
  }
 },
 "nbformat": 4,
 "nbformat_minor": 5
}
